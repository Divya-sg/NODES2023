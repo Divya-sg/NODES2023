{
 "cells": [
  {
   "cell_type": "markdown",
   "id": "27298125",
   "metadata": {},
   "source": [
    "# Generating Knowledge Graphs from HKLI Verdicts\n",
    "\n",
    "This notebook contains sample code and the actual prompts required to download data from the HKLI database, and then extract the data into a specific schema, so it can be presented into a Graph Database like Neo4j \n"
   ]
  },
  {
   "cell_type": "code",
   "execution_count": 1,
   "id": "35fd798a",
   "metadata": {},
   "outputs": [],
   "source": [
    "from langchain.llms import OpenAI\n",
    "from langchain.document_loaders import SeleniumURLLoader\n",
    "from langchain.text_splitter import RecursiveCharacterTextSplitter, CharacterTextSplitter\n",
    "from langchain.vectorstores import Chroma\n",
    "persist_directory = './docs/chroma/'\n",
    "from langchain.embeddings.openai import OpenAIEmbeddings\n",
    "llm = OpenAI(openai_api_key=\"OPENAPI_KEY\",temperature=0)\n",
    "embedding = OpenAIEmbeddings(openai_api_key=\"OPENAPI_KEY\")\n",
    "import json\n",
    "answer = []\n",
    "prompt = []\n",
    "\n"
   ]
  },
  {
   "cell_type": "markdown",
   "id": "86207872",
   "metadata": {},
   "source": [
    "# SUMMARIZATION"
   ]
  },
  {
   "cell_type": "markdown",
   "id": "e39dfd16",
   "metadata": {},
   "source": [
    "### Option #1: Function to summarize the verdict with LangChain \n"
   ]
  },
  {
   "cell_type": "code",
   "execution_count": 6,
   "id": "c9609dd5",
   "metadata": {},
   "outputs": [],
   "source": [
    "\n",
    "from langchain.chat_models import ChatOpenAI\n",
    "from langchain.document_loaders import WebBaseLoader\n",
    "from langchain.chains.summarize import load_summarize_chain\n",
    "from langchain.docstore.document import Document\n",
    "\n",
    "def summarize(text_to_be_summarized):\n",
    "    chain = load_summarize_chain(llm, chain_type=\"stuff\")\n",
    "\n",
    "    d = [Document(page_content=text_to_be_summarized)]\n",
    "\n",
    "    return chain.run(d)"
   ]
  },
  {
   "cell_type": "markdown",
   "id": "6cc661a3",
   "metadata": {},
   "source": [
    "### Option #2: Prompt to summarize the verdict"
   ]
  },
  {
   "cell_type": "code",
   "execution_count": 7,
   "id": "1fc4d427",
   "metadata": {},
   "outputs": [],
   "source": [
    "summarize_prompt = \"\"\"\n",
    "\n",
    "Summarize the JUDICIAL VERDICT below in 1500 words, with details\n",
    "such as the defendants and victims name, specifics of the crime, etc.  \n",
    "\"\"\""
   ]
  },
  {
   "cell_type": "markdown",
   "id": "96759e2c",
   "metadata": {},
   "source": [
    "# PROMPTS"
   ]
  },
  {
   "cell_type": "markdown",
   "id": "842f11bb",
   "metadata": {},
   "source": [
    "### CrimePrompt\n"
   ]
  },
  {
   "cell_type": "code",
   "execution_count": 8,
   "id": "f3ce9ab4",
   "metadata": {},
   "outputs": [],
   "source": [
    "crime_prompt = \"\"\"\n",
    "\n",
    "From the Hongkong JUDICIAL VERDICT, extract the properties of the crime as instructed below:\n",
    "\n",
    "\"caseid\" : from the verdict, extract the caseid,\n",
    "\"case_datetime\": what was the date and time of the case,\n",
    "\"location\": from the verdict, extract the location of the crime,\n",
    "\"is_remote\": from the verdict, extract whether the location of the crime was secluded. return yes or no,\n",
    "\"crime_datetime\": from the verdict, extract the the date and time of the crime,\n",
    "\"weapon\": from the verdict, extract the weapons used in the crime ,\n",
    "\"more_killed\": from the verdict, extract whether the crime had more than 1 victim, return yes or no,\n",
    "\"more_wounded\": from the verdict, extract whether the crime had more than 1 victim wounded, return yes or no,\n",
    "\"Evidence_collected\": the list of the evidences in this crime,\n",
    "\"type\": the nature of the crime, like robbery, homicide, murder, etc.\n",
    "\n",
    "Format the output in the the following JSON structure\n",
    "\n",
    "\n",
    "{\n",
    "  \"crime\": {\n",
    "\n",
    "\"caseid\":  \"..\", \n",
    "\"case_datetime\":  \"..\", \n",
    "\"location\":  \"..\",\n",
    "\"is_remote\":  \"..\",\n",
    "..\n",
    "  }\n",
    "}\n",
    "\n",
    "JUDICIAL VERDICT: ###\n",
    "\n",
    "\"\"\"\n"
   ]
  },
  {
   "cell_type": "code",
   "execution_count": 9,
   "id": "003dedce",
   "metadata": {},
   "outputs": [],
   "source": [
    "crime_details_prompt = \"\"\"\n",
    "\n",
    "From the Hongkong JUDICIAL VERDICT, extract the properties of the crime as instructed below:\n",
    "\n",
    "\"timeline\": from the verdict,  list the timeline of events of the crime,\n",
    "\"judge\" : from the verdict, extract the presiding judge of the case. \n",
    "\n",
    "Format the output in the the following JSON structure\n",
    "\n",
    "\n",
    "{\n",
    "  \"crime details\": {\n",
    "\n",
    "\"timeline\":  \"..\", \n",
    "\"judge\"\" \"..\"\n",
    "  }\n",
    "}\n",
    "\n",
    "JUDICIAL VERDICT: ###\n",
    "\n",
    "\"\"\"\n"
   ]
  },
  {
   "cell_type": "markdown",
   "id": "c9525d44",
   "metadata": {},
   "source": [
    "### Victim Prompt\n"
   ]
  },
  {
   "cell_type": "code",
   "execution_count": 10,
   "id": "9497d10d",
   "metadata": {},
   "outputs": [],
   "source": [
    "victim_prompt = \"\"\"\n",
    "From the Hongkong JUDICIAL VERDICT, extract the properties of the victim entity as instructed below. \n",
    "If there are multiple victims, then extract these properties for each victim. \n",
    "\n",
    "\"name\": from the verdict, extract  full name of the victim.  respond with the name, or unknown.\n",
    "\"age\": from the verdict, extract the age of the victim at the time of the crime. If unavailable, get any mentioned age of the victim. \n",
    "\"gender\" : from the verdict, extract the gender of the victim as male or female.\n",
    "\"origin\" : from the verdict, extract the origin location of the victim.\n",
    "\"marital_status\": from the verdict, extract marital status of the victim, return married or single or divorced.\n",
    "\"is_ill\": from the verdict, extract whether the victim was chronically ill at the time of the crime. return yes or no.\n",
    "\"illness_indicators\": from the verdict, extract list of key phrases from the verdict that describe the health of the victim.\n",
    "\"on_drugs\": from the verdict, extract whether the victim was abusing drugs at the time of the crime. return yes or no.\n",
    "\"drug_indicators\": from the verdict, extract list of key phrases from the verdict that describe drug abuse of the victim.\n",
    "\"is_related\": from the verdict, extract whether the victim is related to the suspect, return yes or no.\n",
    "\"relationship\": from the verdict, extract the relationship between victim and suspect.\n",
    "\"any_employment\": from the verdict, extract whether the victim was employed at the time of the crime. return yes or no.\n",
    "\"employment_indications\": from the verdict, extract list of phrases that describe employment of the victim.\n",
    "\n",
    "\n",
    "Format the output in the the following JSON structure\n",
    "\n",
    "\n",
    "{\n",
    "  \"victim\": {\n",
    "  \"name\" : \"..\",\n",
    "  \"age\" : \"..\",\n",
    "  ...\n",
    "  }\n",
    "}\n",
    "\n",
    "JUDICIAL VERDICT: ###\n",
    "\n",
    "\"\"\""
   ]
  },
  {
   "cell_type": "markdown",
   "id": "f5f5f211",
   "metadata": {},
   "source": [
    "### Suspect Prompt\n"
   ]
  },
  {
   "cell_type": "code",
   "execution_count": 11,
   "id": "72efa375",
   "metadata": {},
   "outputs": [],
   "source": [
    "suspect_prompt = \"\"\"\n",
    "From the Hongkong JUDICIAL VERDICT, extract the properties of the suspect entity as instructed below:\n",
    "\n",
    "\"name\": from the verdict text, extract the full name of the suspect.\n",
    "\"age\": from the verdict text, extract the age of the suspect at the time of the crime. If unavailable, get any mentioned age of the suspect.\n",
    "\"gender\" : from the verdict text, extract the gender of the suspect as male or female.\n",
    "\"origin\" :  from the verdict text, extract the origin location of the suspect.\n",
    "\"marital_status\": from the verdict text, extract the marital status of the suspect, return married or single or divorced or unknown.\n",
    "\"is_ill\": from the verdict text, extract whether the suspect was chronically sick at the time of the crime. return yes or no or unknown.\n",
    "\"illness_indicators\": extract list of key phrases from the verdict text that describe the health of the suspect.\n",
    "\"on_drugs\": From the verdict, extract whether the suspect was abusing drugs at the time of the crime. return yes or no or unknown.\n",
    "\"drug_indicators\": extract list of key phrases from the verdict that describe drug abuse of the suspect.\n",
    "\"on_alcohol\": from the verdict text, extract whether the suspect was under the influence of alcohol at the time of the crime. return yes or no or unknown.\n",
    "\"alcohol_indicators\": from the verdict text,extract list of key phrases that describe alcohol abuse of the suspect.\n",
    "\"employment\": from the verdict text, extract whether the suspect was employed at the time of the crime. return yes or no or unknown. \n",
    "\"employment_indicators\": extract list of key phrases that describe employment of the suspect.\n",
    "\"money_trouble\": from the verdict text, extract whether the suspect had any financial problems at the time of the crime. return yes or no or unknown. \n",
    "\"money_trouble_indicators\": from the verdict text, extract list of key phrases from the verdict that describe the financial problems of the suspect.\n",
    "\"has_prior_records\": From the verdict, extract whether the suspect had any prior criminal record at the time of the crime. return yes or no or unknown. \n",
    "\"details of prior criminal record\": details on the prior criminal record of the suspect.\n",
    "\"motive\": From the verdict, extract the key motive for the crime.\n",
    "\"motive_indicator\": From the verdict, extract list of key phrases from the verdict that indicate the motive for the crime.\n",
    "\"committed_suicide\":  from the verdict, extract whether the suspect committed suicide after the crime. return yes or no or unknown.\n",
    "\"suicide_indicator\":  extract list of key phrases from the verdict that indicate if the suspect committed suicide.\n",
    "\"know_victim\": did the suspect know the victim before the crime, return yes or no or unknown. \n",
    "\n",
    "\n",
    "\n",
    "\n",
    "Format the output in the the following JSON structure\n",
    "\n",
    "\n",
    "{\n",
    "  \"suspect\": {\n",
    "  \"name\" : \"..\",\n",
    "  \"age\" : \"..\",\n",
    "  ...\n",
    "  }\n",
    "}\n",
    "\n",
    "JUDICIAL VERDICT: ###\n",
    "\n",
    "\"\"\"\n",
    "\n",
    "closing_prompt = \" ### \\n OUTPUT JSON: \"\n"
   ]
  },
  {
   "cell_type": "markdown",
   "id": "aef21e4a",
   "metadata": {},
   "source": [
    "## This is the set of URLs from where the judicial verdicts are available. "
   ]
  },
  {
   "cell_type": "code",
   "execution_count": null,
   "id": "d92b6623",
   "metadata": {},
   "outputs": [],
   "source": [
    "urls = [\"https://www.hklii.hk/en/cases/hkcfi/2018/2859\",\n",
    "\"https://www.hklii.hk/en/cases/hkcfi/2016/1974\",\n",
    "\"https://www.hklii.hk/en/cases/hkcfi/2018/209\",\n",
    "\"https://www.hklii.hk/en/cases/hkcfi/2016/1193\",\n",
    "\"https://www.hklii.hk/en/cases/hkcfi/2016/1189\",\n",
    "\"https://www.hklii.hk/en/cases/hkcfi/2015/2390\",\n",
    "\"https://www.hklii.hk/en/cases/hkcfi/2016/1413\",\n",
    "\"https://www.hklii.hk/en/cases/hkcfi/2018/2311\",\n",
    "\"https://www.hklii.hk/en/cases/hkcfi/2018/2857\",\n",
    "\"https://www.hklii.hk/en/cases/hkcfi/2013/1669\",\n",
    "\"https://www.hklii.hk/en/cases/hkcfi/2017/2213\",\n",
    "\"https://www.hklii.hk/en/cases/hkcfi/2018/604\",\n",
    "\"https://www.hklii.hk/en/cases/hkcfi/2019/1151\",\n",
    "\"https://www.hklii.hk/en/cases/hkcfi/2017/525\",\n",
    "\"https://www.hklii.hk/en/cases/hkcfi/2015/2305\",\n",
    "\"https://www.hklii.hk/en/cases/hkcfi/2016/364\",\n",
    "\"https://www.hklii.hk/en/cases/hkcfi/2019/223\",\n",
    "\"https://www.hklii.hk/en/cases/hkcfi/2020/2634\"]\n",
    "\n"
   ]
  },
  {
   "cell_type": "markdown",
   "id": "0dfa8542",
   "metadata": {},
   "source": [
    "### Load the data using Selenium"
   ]
  },
  {
   "cell_type": "code",
   "execution_count": 13,
   "id": "8ad62bec",
   "metadata": {},
   "outputs": [],
   "source": [
    "\n",
    "loader = SeleniumURLLoader(urls)\n",
    "data = loader.load()\n"
   ]
  },
  {
   "cell_type": "markdown",
   "id": "60ff02fb",
   "metadata": {},
   "source": [
    "## Run through all the data we got and prompt to get the structured data in JSON format. "
   ]
  },
  {
   "cell_type": "code",
   "execution_count": 14,
   "id": "64ba0264",
   "metadata": {},
   "outputs": [
    {
     "name": "stdout",
     "output_type": "stream",
     "text": [
      "DONE\n"
     ]
    }
   ],
   "source": [
    "case = []\n",
    "case_url = []\n",
    "\n",
    "cp = []\n",
    "crime = []\n",
    "crime_json = []\n",
    "\n",
    "cdp = []\n",
    "crime_details = []\n",
    "crime_details_json = []\n",
    "\n",
    "vp = []\n",
    "victim = []\n",
    "victim_json = []\n",
    "\n",
    "sp = []\n",
    "suspect = []\n",
    "suspect_json = []\n",
    "\n",
    "for i in range(len(data)):\n",
    "\n",
    "    try:\n",
    "#        usable_case_text = data[i].page_content[:3500*4]\n",
    "        usable_case_text = data[i].page_content\n",
    "        # CRIME    \n",
    "        cp.append(crime_prompt +  usable_case_text + closing_prompt)\n",
    "        c = llm.predict(cp[-1])\n",
    "\n",
    "\n",
    "        # CRIME DETAILS\n",
    "        cdp.append(crime_details_prompt +  usable_case_text + closing_prompt)\n",
    "        cd = llm.predict(cdp[-1])\n",
    "\n",
    "        # VICTIM \n",
    "        vp.append(victim_prompt +  usable_case_text + closing_prompt)\n",
    "        v= llm.predict(vp[-1])\n",
    "        \n",
    "        # SUSPECT\n",
    "        sp.append(suspect_prompt +  usable_case_text + closing_prompt)\n",
    "        s = llm.predict(sp[-1])\n",
    "\n",
    "        \n",
    "        # Everything succeeded -- so now we can append. \n",
    "        \n",
    "        case.append(usable_case_text)\n",
    "        case_url.append(data[i].metadata['source'])\n",
    "        suspect.append(s)\n",
    "        try:\n",
    "            json.loads(suspect[-1])\n",
    "            suspect_json.append(\"Good\")\n",
    "        except:\n",
    "            suspect_json.append(\"Bad\")\n",
    "        \n",
    "        victim.append(v)\n",
    "        try:\n",
    "            json.loads(victim[-1])\n",
    "            victim_json.append(\"Good\")\n",
    "        except:\n",
    "            victim_json.append(\"Bad\")\n",
    "\n",
    "\n",
    "        crime_details.append(cd)\n",
    "        try:\n",
    "            json.loads(crime_details[-1])\n",
    "            crime_details_json.append(\"Good\")\n",
    "        except:\n",
    "            crime_details_json.append(\"Bad\")\n",
    "\n",
    "            \n",
    "        crime.append(c)\n",
    "        try:\n",
    "            json.loads(crime[-1])\n",
    "            crime_json.append(\"Good\")\n",
    "        except:\n",
    "            crime_json.append(\"Bad\")\n",
    "\n",
    "\n",
    "\n",
    "    except:\n",
    "        print(\"Length Exception for \" + str(data[i].metadata['source']))\n",
    "\n",
    "        \n",
    "\n",
    "import pandas as pd\n",
    "case_file = {'case': case, 'url' : case_url,'crime':crime, 'crime_json':crime_json,'crime_details':crime_details,\n",
    "             'crime_details_json':crime_details_json,'victim':victim, 'victim_json':victim_json,\n",
    "             'suspect':suspect, 'suspect_json':suspect_json}\n",
    "df = pd.DataFrame(case_file)\n",
    "df.to_csv(\"NODES23.csv\")\n",
    "print(\"DONE\")"
   ]
  },
  {
   "cell_type": "markdown",
   "id": "aa811d8b",
   "metadata": {},
   "source": [
    "### Validate the Excel file to ensure the putput JSONs are correct; \n",
    "\n",
    "#### if not update and correct them / tune the prompt appropriately. "
   ]
  },
  {
   "cell_type": "markdown",
   "id": "cf7349b6",
   "metadata": {},
   "source": [
    "------------"
   ]
  }
 ],
 "metadata": {
  "kernelspec": {
   "display_name": "Python 3 (ipykernel)",
   "language": "python",
   "name": "python3"
  },
  "language_info": {
   "codemirror_mode": {
    "name": "ipython",
    "version": 3
   },
   "file_extension": ".py",
   "mimetype": "text/x-python",
   "name": "python",
   "nbconvert_exporter": "python",
   "pygments_lexer": "ipython3",
   "version": "3.8.18"
  }
 },
 "nbformat": 4,
 "nbformat_minor": 5
}
