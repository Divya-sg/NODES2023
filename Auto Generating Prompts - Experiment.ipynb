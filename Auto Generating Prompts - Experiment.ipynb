{
 "cells": [
  {
   "cell_type": "markdown",
   "id": "5d238885",
   "metadata": {},
   "source": [
    "# Auto Generating Prompts\n",
    "### This is an experimental methodology to generate the entities and relationships automatically with OpenAI, instead of explictly specifying the entities and properties. \n",
    "\n",
    "This has some utility for usage as a point of departure for designing the schema for the data. "
   ]
  },
  {
   "cell_type": "code",
   "execution_count": 1,
   "id": "050c36cc",
   "metadata": {},
   "outputs": [],
   "source": [
    "from langchain.llms import OpenAI\n",
    "from langchain.document_loaders import SeleniumURLLoader\n",
    "from langchain.text_splitter import RecursiveCharacterTextSplitter, CharacterTextSplitter\n",
    "from langchain.vectorstores import Chroma\n",
    "from langchain.embeddings.openai import OpenAIEmbeddings\n",
    "embedding = OpenAIEmbeddings(openai_api_key=\"OPENAPI_KEY\")\n",
    "from langchain.chat_models import ChatOpenAI\n",
    "llm = OpenAI(temperature=0,openai_api_key=\"OPENAPI_KEY\")\n",
    "import json\n",
    "answer = []\n",
    "prompt = []\n",
    "\n",
    "\n"
   ]
  },
  {
   "cell_type": "code",
   "execution_count": 2,
   "id": "50bc73ef",
   "metadata": {},
   "outputs": [],
   "source": [
    "\n",
    "urls= [\"https://www.hklii.hk/en/cases/hkcfi/2017/525\",\n",
    "\"https://www.hklii.hk/en/cases/hkcfi/2015/2305\"]\n",
    "loader = SeleniumURLLoader(urls)\n",
    "data = loader.load()\n"
   ]
  },
  {
   "cell_type": "markdown",
   "id": "f3dea59d",
   "metadata": {},
   "source": [
    "## First get the topic of the input data"
   ]
  },
  {
   "cell_type": "code",
   "execution_count": 4,
   "id": "60f97c56",
   "metadata": {},
   "outputs": [
    {
     "name": "stdout",
     "output_type": "stream",
     "text": [
      "Enter your prompt :\n",
      "----------\n",
      "Categorize the topic of the following text in 2 words. TEXT ### : \n",
      "\n",
      "RESPONSE ::-------------->>> \n",
      "\n",
      "HKLII\n",
      "\n",
      "Legal Research\n",
      "\n"
     ]
    }
   ],
   "source": [
    "prompt.append(input(\"Enter your prompt :\\n----------\\n\"))\n",
    "\n",
    "### Enter this: Categorize the topic of the following text in 2 words. TEXT ### : \n",
    "\n",
    "answer.append(llm.predict(prompt[-1] + \" \" + data[0].page_content))\n",
    "print(\"\\nRESPONSE ::-------------->>> \" + str(answer[-1]))\n"
   ]
  },
  {
   "cell_type": "code",
   "execution_count": null,
   "id": "74c31c38",
   "metadata": {},
   "outputs": [],
   "source": []
  },
  {
   "cell_type": "markdown",
   "id": "be5d6445",
   "metadata": {},
   "source": [
    "## Use the Topic from the previous section as an input to this prompt \n",
    "\n",
    "Topic: Legal Research "
   ]
  },
  {
   "cell_type": "code",
   "execution_count": 7,
   "id": "410272aa",
   "metadata": {},
   "outputs": [
    {
     "name": "stdout",
     "output_type": "stream",
     "text": [
      "You are a crackerjacker graph database designer. \n",
      " List the set of entities for their properties \n",
      "for this topic  in JSON format:  Legal Research\n",
      "\n",
      "RESPONSE ::-------------->>> \n",
      "\n",
      "{\n",
      "  \"Entity\": \"Legal Research\",\n",
      "  \"Properties\": {\n",
      "    \"Case\": {\n",
      "      \"Case Name\": \"\",\n",
      "      \"Case Number\": \"\",\n",
      "      \"Court\": \"\",\n",
      "      \"Date Filed\": \"\",\n",
      "      \"Outcome\": \"\"\n",
      "    },\n",
      "    \"Lawyer\": {\n",
      "      \"Name\": \"\",\n",
      "      \"Firm\": \"\",\n",
      "      \"Specialty\": \"\"\n",
      "    },\n",
      "    \"Jurisdiction\": {\n",
      "      \"Name\": \"\",\n",
      "      \"Type\": \"\"\n",
      "    },\n",
      "    \"Legal Document\": {\n",
      "      \"Name\": \"\",\n",
      "      \"Type\": \"\",\n",
      "      \"Date\": \"\"\n",
      "    }\n",
      "  }\n",
      "}\n"
     ]
    }
   ],
   "source": [
    "prompt.append(\"You are a crackerjacker graph database designer. List the set of entities and their properties for this topic in JSON format: \" + input(\"You are a crackerjacker graph database designer. \\n List the set of entities for their properties \\nfor this topic  in JSON format:  \"))\n",
    "answer.append(llm.predict(prompt[-1]))\n",
    "print(\"\\nRESPONSE ::-------------->>> \" + str(answer[-1]))"
   ]
  },
  {
   "cell_type": "markdown",
   "id": "54687b0c",
   "metadata": {},
   "source": [
    "### Now try to get the list of properties for this particular case\n",
    "\n",
    "Prompt: Extract a list of entities and their properties for the following judicial verdict in JSON format. \n"
   ]
  },
  {
   "cell_type": "code",
   "execution_count": 10,
   "id": "45315713",
   "metadata": {},
   "outputs": [
    {
     "name": "stdout",
     "output_type": "stream",
     "text": [
      "Enter your prompt :\n",
      "----------\n",
      "Extract a list of entities and their properties for the following judicial verdict in JSON format. \n",
      "\n",
      "RESPONSE ::-------------->>> \n",
      "\n",
      "JSON Format:\n",
      "\n",
      "{\n",
      "  \"Entity\": {\n",
      "    \"Court of First Instance\": {\n",
      "      \"Action No\": \"HCCC473/2015\",\n",
      "      \"Neutral Cit\": \"[2017] HKCFI 525\",\n",
      "      \"Date\": \"6 Mar, 2017\",\n",
      "      \"Download\": \"MS Word\",\n",
      "      \"Judgment\": \"Reading Options\",\n",
      "      \"Translation\": \"Toggle Highlight\",\n",
      "      \"Case History\": \"HCCC473/2015\"\n",
      "    },\n",
      "    \"HKSAR V. KOK WAI SHING\": {\n",
      "      \"Offence\": [\n",
      "        \"Murder (謀殺)\",\n",
      "        \"Preventing the lawful burial of a corpse (阻止合法埋葬屍體)\"\n",
      "      ],\n",
      "      \"Sentence\": \"13 years’ imprisonment\"\n",
      "    },\n",
      "    \"Look up this case on\": {\n",
      "      \"Lawcite\": \"\",\n",
      "      \"Noteup\": \"\"\n",
      "    }\n",
      "  }\n",
      "}\n"
     ]
    }
   ],
   "source": [
    "prompt.append(input(\"Enter your prompt :\\n----------\\n\"))\n",
    "answer.append(llm.predict(prompt[-1] + \" \" + data[0].page_content))\n",
    "print(\"\\nRESPONSE ::-------------->>> \" + str(answer[-1]))"
   ]
  },
  {
   "cell_type": "markdown",
   "id": "3d7ab6dc",
   "metadata": {},
   "source": [
    "## Timeline Prompt : Use this prompt to get the list of events with timestamps\n",
    "\n",
    "Prompt: List the timeline for the events of the crime from the following Judicial verdict in JSON format. \n"
   ]
  },
  {
   "cell_type": "code",
   "execution_count": 29,
   "id": "c135b615",
   "metadata": {},
   "outputs": [
    {
     "name": "stdout",
     "output_type": "stream",
     "text": [
      "Enter your prompt :\n",
      "----------\n",
      "List the timeline for the events of the crime from the following Judicial verdict in JSON format\n",
      "\n",
      "RESPONSE ::-------------->>> \n",
      "\n",
      "Timeline of Events:\n",
      "\n",
      "{\n",
      "  \"1 May 2016\": \"Madam Chan Sau-wa called her son that she would be back home for dinner but never returned home.\",\n",
      "  \"3 May 2016\": \"Her son reported her missing.\",\n",
      "  \"14 May 2016\": \"Police raided Iskra Building situated at No 132‑134 Cheung Sha Wan Road.\",\n",
      "  \"1 May 2016 - 2 May 2016\": \"Defendant left and returned to Iskra Building several times in the late evening and early hours.\",\n",
      "  \"2 May 2016\": \"Defendant was subdued by the police officers at the platform of the building.\",\n",
      "  \"8 November 2018\": \"Defendant was convicted of one count of murder and another count of preventing the lawful burial of a body.\",\n",
      "  \"8 November 2018\": \"Defendant was sentenced to life imprisonment for the murder charge and 7 years' imprisonment for the preventing the lawful burial of a body charge.\"\n",
      "}\n"
     ]
    }
   ],
   "source": [
    "prompt.append(input(\"Enter your prompt :\\n----------\\n\"))\n",
    "answer.append(llm.predict(prompt[-1] + \" \" + data[0].page_content ))\n",
    "print(\"\\nRESPONSE ::-------------->>> \" + str(answer[-1]))"
   ]
  },
  {
   "cell_type": "markdown",
   "id": "dd29adde",
   "metadata": {},
   "source": [
    "-------------------------\n",
    "\n",
    "# Thank you! "
   ]
  }
 ],
 "metadata": {
  "kernelspec": {
   "display_name": "Python 3 (ipykernel)",
   "language": "python",
   "name": "python3"
  },
  "language_info": {
   "codemirror_mode": {
    "name": "ipython",
    "version": 3
   },
   "file_extension": ".py",
   "mimetype": "text/x-python",
   "name": "python",
   "nbconvert_exporter": "python",
   "pygments_lexer": "ipython3",
   "version": "3.8.18"
  }
 },
 "nbformat": 4,
 "nbformat_minor": 5
}
